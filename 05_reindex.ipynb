{
 "cells": [
  {
   "cell_type": "code",
   "execution_count": 9,
   "id": "bfa77c90-4f7e-4933-9732-f2bfbdcf07cb",
   "metadata": {},
   "outputs": [],
   "source": [
    "from IPython.core.interactiveshell import InteractiveShell\n",
    "InteractiveShell.ast_node_interactivity = 'all'\n",
    "import pandas as pd\n",
    "import numpy as np\n",
    "pd.set_option('display.float_format', lambda x: '%.3f' % x)\n",
    "pd.set_option('max_columns', None)"
   ]
  },
  {
   "cell_type": "code",
   "execution_count": 2,
   "id": "468f548f-2c6d-4b0f-98bb-ffc4cd2275cd",
   "metadata": {},
   "outputs": [],
   "source": [
    "import FinanceDataReader as fdr"
   ]
  },
  {
   "cell_type": "code",
   "execution_count": 11,
   "id": "d6321ec5-396a-4948-bfba-64328ec8e05e",
   "metadata": {},
   "outputs": [],
   "source": [
    "# 삼성전자\n",
    "df1 = fdr.DataReader('005930', '2021-01-02', '2021-10-30')"
   ]
  },
  {
   "cell_type": "code",
   "execution_count": 12,
   "id": "5cf1038f-245e-47a7-b40a-21b7812c8f8c",
   "metadata": {},
   "outputs": [],
   "source": [
    "# KODEX 200 ETF\n",
    "df2 = fdr.DataReader('069500', '2021-01-02', '2021-10-30')"
   ]
  },
  {
   "cell_type": "code",
   "execution_count": 13,
   "id": "ac9122c0-7013-4fae-84d2-ca4388e212bc",
   "metadata": {},
   "outputs": [
    {
     "data": {
      "text/html": [
       "<div>\n",
       "<style scoped>\n",
       "    .dataframe tbody tr th:only-of-type {\n",
       "        vertical-align: middle;\n",
       "    }\n",
       "\n",
       "    .dataframe tbody tr th {\n",
       "        vertical-align: top;\n",
       "    }\n",
       "\n",
       "    .dataframe thead th {\n",
       "        text-align: right;\n",
       "    }\n",
       "</style>\n",
       "<table border=\"1\" class=\"dataframe\">\n",
       "  <thead>\n",
       "    <tr style=\"text-align: right;\">\n",
       "      <th></th>\n",
       "      <th>Open</th>\n",
       "      <th>High</th>\n",
       "      <th>Low</th>\n",
       "      <th>Close</th>\n",
       "      <th>Volume</th>\n",
       "      <th>Change</th>\n",
       "    </tr>\n",
       "    <tr>\n",
       "      <th>Date</th>\n",
       "      <th></th>\n",
       "      <th></th>\n",
       "      <th></th>\n",
       "      <th></th>\n",
       "      <th></th>\n",
       "      <th></th>\n",
       "    </tr>\n",
       "  </thead>\n",
       "  <tbody>\n",
       "    <tr>\n",
       "      <th>2021-01-04</th>\n",
       "      <td>81000</td>\n",
       "      <td>84400</td>\n",
       "      <td>80200</td>\n",
       "      <td>83000</td>\n",
       "      <td>38655276</td>\n",
       "      <td>0.025</td>\n",
       "    </tr>\n",
       "    <tr>\n",
       "      <th>2021-01-05</th>\n",
       "      <td>81600</td>\n",
       "      <td>83900</td>\n",
       "      <td>81600</td>\n",
       "      <td>83900</td>\n",
       "      <td>35335669</td>\n",
       "      <td>0.011</td>\n",
       "    </tr>\n",
       "  </tbody>\n",
       "</table>\n",
       "</div>"
      ],
      "text/plain": [
       "             Open   High    Low  Close    Volume  Change\n",
       "Date                                                    \n",
       "2021-01-04  81000  84400  80200  83000  38655276   0.025\n",
       "2021-01-05  81600  83900  81600  83900  35335669   0.011"
      ]
     },
     "execution_count": 13,
     "metadata": {},
     "output_type": "execute_result"
    },
    {
     "data": {
      "text/html": [
       "<div>\n",
       "<style scoped>\n",
       "    .dataframe tbody tr th:only-of-type {\n",
       "        vertical-align: middle;\n",
       "    }\n",
       "\n",
       "    .dataframe tbody tr th {\n",
       "        vertical-align: top;\n",
       "    }\n",
       "\n",
       "    .dataframe thead th {\n",
       "        text-align: right;\n",
       "    }\n",
       "</style>\n",
       "<table border=\"1\" class=\"dataframe\">\n",
       "  <thead>\n",
       "    <tr style=\"text-align: right;\">\n",
       "      <th></th>\n",
       "      <th>Open</th>\n",
       "      <th>High</th>\n",
       "      <th>Low</th>\n",
       "      <th>Close</th>\n",
       "      <th>Volume</th>\n",
       "      <th>Change</th>\n",
       "    </tr>\n",
       "    <tr>\n",
       "      <th>Date</th>\n",
       "      <th></th>\n",
       "      <th></th>\n",
       "      <th></th>\n",
       "      <th></th>\n",
       "      <th></th>\n",
       "      <th></th>\n",
       "    </tr>\n",
       "  </thead>\n",
       "  <tbody>\n",
       "    <tr>\n",
       "      <th>2021-04-22</th>\n",
       "      <td>43520</td>\n",
       "      <td>43690</td>\n",
       "      <td>43355</td>\n",
       "      <td>43400</td>\n",
       "      <td>6251618</td>\n",
       "      <td>0.001</td>\n",
       "    </tr>\n",
       "    <tr>\n",
       "      <th>2021-04-23</th>\n",
       "      <td>43170</td>\n",
       "      <td>43550</td>\n",
       "      <td>42925</td>\n",
       "      <td>43425</td>\n",
       "      <td>2743883</td>\n",
       "      <td>0.001</td>\n",
       "    </tr>\n",
       "  </tbody>\n",
       "</table>\n",
       "</div>"
      ],
      "text/plain": [
       "             Open   High    Low  Close   Volume  Change\n",
       "Date                                                   \n",
       "2021-04-22  43520  43690  43355  43400  6251618   0.001\n",
       "2021-04-23  43170  43550  42925  43425  2743883   0.001"
      ]
     },
     "execution_count": 13,
     "metadata": {},
     "output_type": "execute_result"
    }
   ],
   "source": [
    "df1.head(2)\n",
    "df2.tail(2)"
   ]
  },
  {
   "cell_type": "code",
   "execution_count": 14,
   "id": "2a177a19-47c9-4871-8b3f-33c3ac363665",
   "metadata": {},
   "outputs": [
    {
     "data": {
      "text/plain": [
       "(77, 6)"
      ]
     },
     "execution_count": 14,
     "metadata": {},
     "output_type": "execute_result"
    },
    {
     "data": {
      "text/plain": [
       "(77, 6)"
      ]
     },
     "execution_count": 14,
     "metadata": {},
     "output_type": "execute_result"
    }
   ],
   "source": [
    "df1.shape\n",
    "df2.shape"
   ]
  },
  {
   "cell_type": "code",
   "execution_count": 16,
   "id": "8c66b70d-2062-4b7c-9690-0cf4690286a5",
   "metadata": {},
   "outputs": [],
   "source": [
    "import datetime"
   ]
  },
  {
   "cell_type": "code",
   "execution_count": 30,
   "id": "7c87c38c-7041-40fb-8826-939826819433",
   "metadata": {},
   "outputs": [],
   "source": [
    "df2 = df2.drop(pd.to_datetime('2021-01-05'))"
   ]
  },
  {
   "cell_type": "code",
   "execution_count": 31,
   "id": "98b20750-28bd-41c7-b0e5-af9d512d287f",
   "metadata": {},
   "outputs": [
    {
     "data": {
      "text/html": [
       "<div>\n",
       "<style scoped>\n",
       "    .dataframe tbody tr th:only-of-type {\n",
       "        vertical-align: middle;\n",
       "    }\n",
       "\n",
       "    .dataframe tbody tr th {\n",
       "        vertical-align: top;\n",
       "    }\n",
       "\n",
       "    .dataframe thead th {\n",
       "        text-align: right;\n",
       "    }\n",
       "</style>\n",
       "<table border=\"1\" class=\"dataframe\">\n",
       "  <thead>\n",
       "    <tr style=\"text-align: right;\">\n",
       "      <th></th>\n",
       "      <th>Open</th>\n",
       "      <th>High</th>\n",
       "      <th>Low</th>\n",
       "      <th>Close</th>\n",
       "      <th>Volume</th>\n",
       "      <th>Change</th>\n",
       "    </tr>\n",
       "    <tr>\n",
       "      <th>Date</th>\n",
       "      <th></th>\n",
       "      <th></th>\n",
       "      <th></th>\n",
       "      <th></th>\n",
       "      <th></th>\n",
       "      <th></th>\n",
       "    </tr>\n",
       "  </thead>\n",
       "  <tbody>\n",
       "    <tr>\n",
       "      <th>2021-01-04</th>\n",
       "      <td>39538</td>\n",
       "      <td>40567</td>\n",
       "      <td>39359</td>\n",
       "      <td>40493</td>\n",
       "      <td>12185235</td>\n",
       "      <td>0.026</td>\n",
       "    </tr>\n",
       "    <tr>\n",
       "      <th>2021-01-06</th>\n",
       "      <td>41221</td>\n",
       "      <td>41631</td>\n",
       "      <td>40547</td>\n",
       "      <td>40703</td>\n",
       "      <td>15221599</td>\n",
       "      <td>-0.010</td>\n",
       "    </tr>\n",
       "    <tr>\n",
       "      <th>2021-01-07</th>\n",
       "      <td>41161</td>\n",
       "      <td>41991</td>\n",
       "      <td>41142</td>\n",
       "      <td>41651</td>\n",
       "      <td>8752407</td>\n",
       "      <td>0.023</td>\n",
       "    </tr>\n",
       "    <tr>\n",
       "      <th>2021-01-08</th>\n",
       "      <td>42195</td>\n",
       "      <td>43733</td>\n",
       "      <td>42065</td>\n",
       "      <td>43494</td>\n",
       "      <td>11521190</td>\n",
       "      <td>0.044</td>\n",
       "    </tr>\n",
       "    <tr>\n",
       "      <th>2021-01-11</th>\n",
       "      <td>43948</td>\n",
       "      <td>45317</td>\n",
       "      <td>42879</td>\n",
       "      <td>43604</td>\n",
       "      <td>23107696</td>\n",
       "      <td>0.003</td>\n",
       "    </tr>\n",
       "  </tbody>\n",
       "</table>\n",
       "</div>"
      ],
      "text/plain": [
       "             Open   High    Low  Close    Volume  Change\n",
       "Date                                                    \n",
       "2021-01-04  39538  40567  39359  40493  12185235   0.026\n",
       "2021-01-06  41221  41631  40547  40703  15221599  -0.010\n",
       "2021-01-07  41161  41991  41142  41651   8752407   0.023\n",
       "2021-01-08  42195  43733  42065  43494  11521190   0.044\n",
       "2021-01-11  43948  45317  42879  43604  23107696   0.003"
      ]
     },
     "execution_count": 31,
     "metadata": {},
     "output_type": "execute_result"
    }
   ],
   "source": [
    "df2.head()"
   ]
  },
  {
   "cell_type": "code",
   "execution_count": 39,
   "id": "dfc346ff-428f-45b9-937a-b9ac6ac321cf",
   "metadata": {},
   "outputs": [],
   "source": [
    "new_df2 = df2.reindex(df1.index)"
   ]
  },
  {
   "cell_type": "code",
   "execution_count": 40,
   "id": "9110e7ff-b79e-472b-9fa3-3ab1155916f6",
   "metadata": {},
   "outputs": [
    {
     "data": {
      "text/plain": [
       "(77, 6)"
      ]
     },
     "execution_count": 40,
     "metadata": {},
     "output_type": "execute_result"
    }
   ],
   "source": [
    "new_df2.shape"
   ]
  },
  {
   "cell_type": "code",
   "execution_count": 43,
   "id": "905dfa57-b1f8-457d-9f80-aa681bee40b8",
   "metadata": {},
   "outputs": [
    {
     "data": {
      "text/html": [
       "<div>\n",
       "<style scoped>\n",
       "    .dataframe tbody tr th:only-of-type {\n",
       "        vertical-align: middle;\n",
       "    }\n",
       "\n",
       "    .dataframe tbody tr th {\n",
       "        vertical-align: top;\n",
       "    }\n",
       "\n",
       "    .dataframe thead th {\n",
       "        text-align: right;\n",
       "    }\n",
       "</style>\n",
       "<table border=\"1\" class=\"dataframe\">\n",
       "  <thead>\n",
       "    <tr style=\"text-align: right;\">\n",
       "      <th></th>\n",
       "      <th>Open</th>\n",
       "      <th>High</th>\n",
       "      <th>Low</th>\n",
       "      <th>Close</th>\n",
       "      <th>Volume</th>\n",
       "      <th>Change</th>\n",
       "    </tr>\n",
       "    <tr>\n",
       "      <th>Date</th>\n",
       "      <th></th>\n",
       "      <th></th>\n",
       "      <th></th>\n",
       "      <th></th>\n",
       "      <th></th>\n",
       "      <th></th>\n",
       "    </tr>\n",
       "  </thead>\n",
       "  <tbody>\n",
       "    <tr>\n",
       "      <th>2021-01-04</th>\n",
       "      <td>39538.000</td>\n",
       "      <td>40567.000</td>\n",
       "      <td>39359.000</td>\n",
       "      <td>40493.000</td>\n",
       "      <td>12185235.000</td>\n",
       "      <td>0.026</td>\n",
       "    </tr>\n",
       "    <tr>\n",
       "      <th>2021-01-05</th>\n",
       "      <td>39538.000</td>\n",
       "      <td>40567.000</td>\n",
       "      <td>39359.000</td>\n",
       "      <td>40493.000</td>\n",
       "      <td>12185235.000</td>\n",
       "      <td>0.026</td>\n",
       "    </tr>\n",
       "    <tr>\n",
       "      <th>2021-01-06</th>\n",
       "      <td>41221.000</td>\n",
       "      <td>41631.000</td>\n",
       "      <td>40547.000</td>\n",
       "      <td>40703.000</td>\n",
       "      <td>15221599.000</td>\n",
       "      <td>-0.010</td>\n",
       "    </tr>\n",
       "    <tr>\n",
       "      <th>2021-01-07</th>\n",
       "      <td>41161.000</td>\n",
       "      <td>41991.000</td>\n",
       "      <td>41142.000</td>\n",
       "      <td>41651.000</td>\n",
       "      <td>8752407.000</td>\n",
       "      <td>0.023</td>\n",
       "    </tr>\n",
       "    <tr>\n",
       "      <th>2021-01-08</th>\n",
       "      <td>42195.000</td>\n",
       "      <td>43733.000</td>\n",
       "      <td>42065.000</td>\n",
       "      <td>43494.000</td>\n",
       "      <td>11521190.000</td>\n",
       "      <td>0.044</td>\n",
       "    </tr>\n",
       "    <tr>\n",
       "      <th>...</th>\n",
       "      <td>...</td>\n",
       "      <td>...</td>\n",
       "      <td>...</td>\n",
       "      <td>...</td>\n",
       "      <td>...</td>\n",
       "      <td>...</td>\n",
       "    </tr>\n",
       "    <tr>\n",
       "      <th>2021-04-19</th>\n",
       "      <td>43855.000</td>\n",
       "      <td>44120.000</td>\n",
       "      <td>43730.000</td>\n",
       "      <td>43850.000</td>\n",
       "      <td>5106949.000</td>\n",
       "      <td>-0.000</td>\n",
       "    </tr>\n",
       "    <tr>\n",
       "      <th>2021-04-20</th>\n",
       "      <td>43760.000</td>\n",
       "      <td>44170.000</td>\n",
       "      <td>43760.000</td>\n",
       "      <td>44125.000</td>\n",
       "      <td>5454369.000</td>\n",
       "      <td>0.006</td>\n",
       "    </tr>\n",
       "    <tr>\n",
       "      <th>2021-04-21</th>\n",
       "      <td>43840.000</td>\n",
       "      <td>43905.000</td>\n",
       "      <td>43195.000</td>\n",
       "      <td>43335.000</td>\n",
       "      <td>11608961.000</td>\n",
       "      <td>-0.018</td>\n",
       "    </tr>\n",
       "    <tr>\n",
       "      <th>2021-04-22</th>\n",
       "      <td>43520.000</td>\n",
       "      <td>43690.000</td>\n",
       "      <td>43355.000</td>\n",
       "      <td>43400.000</td>\n",
       "      <td>6251618.000</td>\n",
       "      <td>0.001</td>\n",
       "    </tr>\n",
       "    <tr>\n",
       "      <th>2021-04-23</th>\n",
       "      <td>43170.000</td>\n",
       "      <td>43550.000</td>\n",
       "      <td>42925.000</td>\n",
       "      <td>43425.000</td>\n",
       "      <td>2743883.000</td>\n",
       "      <td>0.001</td>\n",
       "    </tr>\n",
       "  </tbody>\n",
       "</table>\n",
       "<p>77 rows × 6 columns</p>\n",
       "</div>"
      ],
      "text/plain": [
       "                Open      High       Low     Close       Volume  Change\n",
       "Date                                                                   \n",
       "2021-01-04 39538.000 40567.000 39359.000 40493.000 12185235.000   0.026\n",
       "2021-01-05 39538.000 40567.000 39359.000 40493.000 12185235.000   0.026\n",
       "2021-01-06 41221.000 41631.000 40547.000 40703.000 15221599.000  -0.010\n",
       "2021-01-07 41161.000 41991.000 41142.000 41651.000  8752407.000   0.023\n",
       "2021-01-08 42195.000 43733.000 42065.000 43494.000 11521190.000   0.044\n",
       "...              ...       ...       ...       ...          ...     ...\n",
       "2021-04-19 43855.000 44120.000 43730.000 43850.000  5106949.000  -0.000\n",
       "2021-04-20 43760.000 44170.000 43760.000 44125.000  5454369.000   0.006\n",
       "2021-04-21 43840.000 43905.000 43195.000 43335.000 11608961.000  -0.018\n",
       "2021-04-22 43520.000 43690.000 43355.000 43400.000  6251618.000   0.001\n",
       "2021-04-23 43170.000 43550.000 42925.000 43425.000  2743883.000   0.001\n",
       "\n",
       "[77 rows x 6 columns]"
      ]
     },
     "execution_count": 43,
     "metadata": {},
     "output_type": "execute_result"
    }
   ],
   "source": [
    "new_df2.fillna(method='ffill')"
   ]
  },
  {
   "cell_type": "code",
   "execution_count": null,
   "id": "66bf3492-e0d6-4a9c-a04d-273d359d0147",
   "metadata": {},
   "outputs": [],
   "source": []
  }
 ],
 "metadata": {
  "kernelspec": {
   "display_name": "Python 3",
   "language": "python",
   "name": "python3"
  },
  "language_info": {
   "codemirror_mode": {
    "name": "ipython",
    "version": 3
   },
   "file_extension": ".py",
   "mimetype": "text/x-python",
   "name": "python",
   "nbconvert_exporter": "python",
   "pygments_lexer": "ipython3",
   "version": "3.8.6"
  }
 },
 "nbformat": 4,
 "nbformat_minor": 5
}
