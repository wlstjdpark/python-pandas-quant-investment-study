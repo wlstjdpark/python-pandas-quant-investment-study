{
 "cells": [
  {
   "cell_type": "markdown",
   "metadata": {},
   "source": [
    "# Wrap up"
   ]
  },
  {
   "cell_type": "markdown",
   "metadata": {},
   "source": [
    "- Section1\n",
    "    - Pandas의 기본 자료형 Series, DataFrame\n",
    "- Section2\n",
    "    - EDA와 관련 함수들, Boolean selection, nan value, 수학관련 연산의 기본 원리\n",
    "- Section3\n",
    "    - Split - Apply - Combine\n",
    "- Section4\n",
    "    - 복수의 Series, DataFrame을 하나로 합치기\n",
    "- Section5\n",
    "    - 시각화의 기본원리\n",
    "- Section6\n",
    "    - 실전프로젝트"
   ]
  },
  {
   "cell_type": "markdown",
   "metadata": {},
   "source": [
    " "
   ]
  },
  {
   "cell_type": "markdown",
   "metadata": {},
   "source": [
    " "
   ]
  },
  {
   "cell_type": "markdown",
   "metadata": {},
   "source": [
    "# 다음 수업 예고"
   ]
  },
  {
   "cell_type": "markdown",
   "metadata": {},
   "source": [
    "## 데이터 크롤링 & 자동화"
   ]
  },
  {
   "cell_type": "markdown",
   "metadata": {},
   "source": [
    "- 크롤링의 기본 원리\n",
    "    - 다양한 웹 작동방식에서의 크롤링\n",
    "- 예제\n",
    "    - Apple, Amazon 등 회사별 재무제표 크롤링\n",
    "    - index별 추종 ETF 종목 크롤링\n",
    "        - e.g. commidity 추종 ETF, Equity 추종 ETF 등\n",
    "    - 웹에서 보고서 관련 년도 및 월별 pdf 파일을 자동 다운로드 후, 각 pdf로부터 원하는 텍스트 추출하기\n",
    "    - 개봉예정영화 예매 시작 알림이\n",
    "    - Yahoo finance에서 주식 가격데이터 크롤링\n",
    "    - ...\n",
    "- 자동화"
   ]
  },
  {
   "cell_type": "markdown",
   "metadata": {},
   "source": [
    "## Price 데이터 기반 백테스팅 전략 구현(Part2)"
   ]
  },
  {
   "cell_type": "markdown",
   "metadata": {},
   "source": [
    "- date, time, period 관련 pandas API\n",
    "- Historical Price 데이터 (O,H,L,C,V) 기반 백테스팅\n",
    "    - half-vectorized & half-event-based 형태\n",
    "- 정적/동적 자산배분 전략\n",
    "    - 영구포트폴리오, 올웨더, 모멘텀 기반, VAA, LAA (full name) 등과 같은 자산배분 전략\n",
    "    - 모멘텀에 따른 투자 가중치 부여\n",
    "    - 월별, 분기별, 반기별, 년도별 리벨런싱\n",
    "- 다양한 평가 metric, 주식시장 benchmark와 비교하기"
   ]
  },
  {
   "cell_type": "markdown",
   "metadata": {},
   "source": [
    "## 맺음말"
   ]
  }
 ],
 "metadata": {
  "kernelspec": {
   "display_name": "Python 3",
   "language": "python",
   "name": "python3"
  },
  "language_info": {
   "codemirror_mode": {
    "name": "ipython",
    "version": 3
   },
   "file_extension": ".py",
   "mimetype": "text/x-python",
   "name": "python",
   "nbconvert_exporter": "python",
   "pygments_lexer": "ipython3",
   "version": "3.7.3"
  },
  "toc": {
   "base_numbering": 1,
   "nav_menu": {},
   "number_sections": true,
   "sideBar": true,
   "skip_h1_title": false,
   "title_cell": "Table of Contents",
   "title_sidebar": "Contents",
   "toc_cell": false,
   "toc_position": {
    "height": "calc(100% - 180px)",
    "left": "10px",
    "top": "150px",
    "width": "256px"
   },
   "toc_section_display": true,
   "toc_window_display": true
  },
  "toc-autonumbering": true,
  "toc-showmarkdowntxt": false
 },
 "nbformat": 4,
 "nbformat_minor": 4
}
