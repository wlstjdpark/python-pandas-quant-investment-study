{
 "cells": [
  {
   "cell_type": "code",
   "execution_count": 1,
   "metadata": {},
   "outputs": [],
   "source": [
    "import matplotlib.pyplot as plt\n",
    "# 노트북에서 인라인으로 바로 보여줄 수 있도록 하는 명령어\n",
    "%matplotlib inline\n",
    "\n",
    "from IPython.core.interactiveshell import InteractiveShell\n",
    "InteractiveShell.ast_node_interactivity = 'all'"
   ]
  },
  {
   "cell_type": "code",
   "execution_count": 2,
   "metadata": {},
   "outputs": [],
   "source": [
    "import FinanceDataReader  as fdr"
   ]
  },
  {
   "cell_type": "markdown",
   "metadata": {},
   "source": [
    "### Stateful\n",
    "- matplotlib이 암묵적으로 현재 상태를 들고 있음\n",
    "  - 내부적으로 현재 타겟이 되는 figure ,ax 등을 설정하고, operation이 발생하면 '내부에서' 해당 figure, ax에 적용함\n",
    "- 사용은 비추\n",
    "  - matplotlib이 암묵적, 내부적으로 변환을 진행하고 적용하기 때문에, 직관적이지 못함\n",
    "  - 다수의 plot을 한 번에 그리기 어령무\n",
    "  - 그냥 간단히 테스트 해볼 때 정도에만 사용"
   ]
  },
  {
   "cell_type": "code",
   "execution_count": 3,
   "metadata": {},
   "outputs": [
    {
     "data": {
      "text/html": [
       "<div>\n",
       "<style scoped>\n",
       "    .dataframe tbody tr th:only-of-type {\n",
       "        vertical-align: middle;\n",
       "    }\n",
       "\n",
       "    .dataframe tbody tr th {\n",
       "        vertical-align: top;\n",
       "    }\n",
       "\n",
       "    .dataframe thead th {\n",
       "        text-align: right;\n",
       "    }\n",
       "</style>\n",
       "<table border=\"1\" class=\"dataframe\">\n",
       "  <thead>\n",
       "    <tr style=\"text-align: right;\">\n",
       "      <th></th>\n",
       "      <th>Open</th>\n",
       "      <th>High</th>\n",
       "      <th>Low</th>\n",
       "      <th>Close</th>\n",
       "      <th>Volume</th>\n",
       "      <th>Change</th>\n",
       "    </tr>\n",
       "    <tr>\n",
       "      <th>Date</th>\n",
       "      <th></th>\n",
       "      <th></th>\n",
       "      <th></th>\n",
       "      <th></th>\n",
       "      <th></th>\n",
       "      <th></th>\n",
       "    </tr>\n",
       "  </thead>\n",
       "  <tbody>\n",
       "    <tr>\n",
       "      <th>2017-01-02</th>\n",
       "      <td>1260</td>\n",
       "      <td>1300</td>\n",
       "      <td>1255</td>\n",
       "      <td>1295</td>\n",
       "      <td>1232965</td>\n",
       "      <td>0.040161</td>\n",
       "    </tr>\n",
       "    <tr>\n",
       "      <th>2017-01-03</th>\n",
       "      <td>1305</td>\n",
       "      <td>1315</td>\n",
       "      <td>1280</td>\n",
       "      <td>1310</td>\n",
       "      <td>886559</td>\n",
       "      <td>0.011583</td>\n",
       "    </tr>\n",
       "    <tr>\n",
       "      <th>2017-01-04</th>\n",
       "      <td>1305</td>\n",
       "      <td>1310</td>\n",
       "      <td>1280</td>\n",
       "      <td>1305</td>\n",
       "      <td>446070</td>\n",
       "      <td>-0.003817</td>\n",
       "    </tr>\n",
       "    <tr>\n",
       "      <th>2017-01-05</th>\n",
       "      <td>1305</td>\n",
       "      <td>1330</td>\n",
       "      <td>1300</td>\n",
       "      <td>1320</td>\n",
       "      <td>721691</td>\n",
       "      <td>0.011494</td>\n",
       "    </tr>\n",
       "    <tr>\n",
       "      <th>2017-01-06</th>\n",
       "      <td>1320</td>\n",
       "      <td>1345</td>\n",
       "      <td>1305</td>\n",
       "      <td>1325</td>\n",
       "      <td>645608</td>\n",
       "      <td>0.003788</td>\n",
       "    </tr>\n",
       "  </tbody>\n",
       "</table>\n",
       "</div>"
      ],
      "text/plain": [
       "            Open  High   Low  Close   Volume    Change\n",
       "Date                                                  \n",
       "2017-01-02  1260  1300  1255   1295  1232965  0.040161\n",
       "2017-01-03  1305  1315  1280   1310   886559  0.011583\n",
       "2017-01-04  1305  1310  1280   1305   446070 -0.003817\n",
       "2017-01-05  1305  1330  1300   1320   721691  0.011494\n",
       "2017-01-06  1320  1345  1305   1325   645608  0.003788"
      ]
     },
     "execution_count": 3,
     "metadata": {},
     "output_type": "execute_result"
    }
   ],
   "source": [
    "samsung_df = fdr.DataReader('005390', '2017-01-01', '2017-12-31')\n",
    "samsung_df.head()"
   ]
  },
  {
   "cell_type": "code",
   "execution_count": null,
   "metadata": {},
   "outputs": [],
   "source": []
  }
 ],
 "metadata": {
  "kernelspec": {
   "display_name": "Python 3",
   "language": "python",
   "name": "python3"
  },
  "language_info": {
   "codemirror_mode": {
    "name": "ipython",
    "version": 3
   },
   "file_extension": ".py",
   "mimetype": "text/x-python",
   "name": "python",
   "nbconvert_exporter": "python",
   "pygments_lexer": "ipython3",
   "version": "3.7.7"
  }
 },
 "nbformat": 4,
 "nbformat_minor": 4
}
